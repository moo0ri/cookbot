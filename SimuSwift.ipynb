{
 "cells": [
  {
   "cell_type": "code",
   "execution_count": 1,
   "id": "bb3fb1e0",
   "metadata": {},
   "outputs": [
    {
     "name": "stdout",
     "output_type": "stream",
     "text": [
      "Pasta atual: c:\\Users\\User\\Desktop\\Faculdade\\Phyton\\Testes iniciais\\Cookbot\n"
     ]
    },
    {
     "ename": "FileNotFoundError",
     "evalue": "[Errno 2] No such file or directory: 'c:\\\\Users\\\\User\\\\Desktop\\\\Faculdade\\\\Phyton\\\\Testes iniciais\\\\Cookbot\\\\mont_simplificada.urdf'",
     "output_type": "error",
     "traceback": [
      "\u001b[1;31m---------------------------------------------------------------------------\u001b[0m",
      "\u001b[1;31mFileNotFoundError\u001b[0m                         Traceback (most recent call last)",
      "Cell \u001b[1;32mIn[1], line 7\u001b[0m\n\u001b[0;32m      5\u001b[0m \u001b[38;5;28mprint\u001b[39m(\u001b[38;5;124m\"\u001b[39m\u001b[38;5;124mPasta atual:\u001b[39m\u001b[38;5;124m\"\u001b[39m, Path()\u001b[38;5;241m.\u001b[39mabsolute())\n\u001b[0;32m      6\u001b[0m urdf_path \u001b[38;5;241m=\u001b[39m Path()\u001b[38;5;241m.\u001b[39mabsolute() \u001b[38;5;241m/\u001b[39m \u001b[38;5;124m\"\u001b[39m\u001b[38;5;124mmont_simplificada.urdf\u001b[39m\u001b[38;5;124m\"\u001b[39m\n\u001b[1;32m----> 7\u001b[0m robot \u001b[38;5;241m=\u001b[39m \u001b[43mRobot\u001b[49m\u001b[38;5;241;43m.\u001b[39;49m\u001b[43mURDF\u001b[49m\u001b[43m(\u001b[49m\u001b[38;5;28;43mstr\u001b[39;49m\u001b[43m(\u001b[49m\u001b[43murdf_path\u001b[49m\u001b[43m)\u001b[49m\u001b[43m)\u001b[49m\n\u001b[0;32m      8\u001b[0m \u001b[38;5;28mprint\u001b[39m(robot)\n",
      "File \u001b[1;32mc:\\Users\\User\\anaconda3\\envs\\cookbot\\lib\\site-packages\\roboticstoolbox\\robot\\Robot.py:306\u001b[0m, in \u001b[0;36mRobot.URDF\u001b[1;34m(cls, file_path, gripper)\u001b[0m\n\u001b[0;32m    287\u001b[0m \u001b[38;5;129m@classmethod\u001b[39m\n\u001b[0;32m    288\u001b[0m \u001b[38;5;28;01mdef\u001b[39;00m\u001b[38;5;250m \u001b[39m\u001b[38;5;21mURDF\u001b[39m(\u001b[38;5;28mcls\u001b[39m, file_path: \u001b[38;5;28mstr\u001b[39m, gripper: Union[\u001b[38;5;28mint\u001b[39m, \u001b[38;5;28mstr\u001b[39m, \u001b[38;5;28;01mNone\u001b[39;00m] \u001b[38;5;241m=\u001b[39m \u001b[38;5;28;01mNone\u001b[39;00m):\n\u001b[0;32m    289\u001b[0m \u001b[38;5;250m    \u001b[39m\u001b[38;5;124;03m\"\"\"\u001b[39;00m\n\u001b[0;32m    290\u001b[0m \u001b[38;5;124;03m    Construct a Robot object from URDF file\u001b[39;00m\n\u001b[0;32m    291\u001b[0m \n\u001b[1;32m   (...)\u001b[0m\n\u001b[0;32m    303\u001b[0m \n\u001b[0;32m    304\u001b[0m \u001b[38;5;124;03m    \"\"\"\u001b[39;00m\n\u001b[1;32m--> 306\u001b[0m     links, name, urdf_string, urdf_filepath \u001b[38;5;241m=\u001b[39m \u001b[43mRobot\u001b[49m\u001b[38;5;241;43m.\u001b[39;49m\u001b[43mURDF_read\u001b[49m\u001b[43m(\u001b[49m\u001b[43mfile_path\u001b[49m\u001b[43m)\u001b[49m\n\u001b[0;32m    308\u001b[0m     gripperLink: Union[Link, \u001b[38;5;28;01mNone\u001b[39;00m] \u001b[38;5;241m=\u001b[39m \u001b[38;5;28;01mNone\u001b[39;00m\n\u001b[0;32m    310\u001b[0m     \u001b[38;5;28;01mif\u001b[39;00m gripper \u001b[38;5;129;01mis\u001b[39;00m \u001b[38;5;129;01mnot\u001b[39;00m \u001b[38;5;28;01mNone\u001b[39;00m:\n",
      "File \u001b[1;32mc:\\Users\\User\\anaconda3\\envs\\cookbot\\lib\\site-packages\\roboticstoolbox\\robot\\Robot.py:279\u001b[0m, in \u001b[0;36mRobot.URDF_read\u001b[1;34m(file_path, tld, xacro_tld)\u001b[0m\n\u001b[0;32m    277\u001b[0m         \u001b[38;5;28;01mraise\u001b[39;00m e\n\u001b[0;32m    278\u001b[0m \u001b[38;5;28;01melse\u001b[39;00m:  \u001b[38;5;66;03m# pragma nocover\u001b[39;00m\n\u001b[1;32m--> 279\u001b[0m     urdf_string \u001b[38;5;241m=\u001b[39m \u001b[38;5;28;43mopen\u001b[39;49m\u001b[43m(\u001b[49m\u001b[43mfile_path\u001b[49m\u001b[43m)\u001b[49m\u001b[38;5;241m.\u001b[39mread()\n\u001b[0;32m    280\u001b[0m     urdf \u001b[38;5;241m=\u001b[39m URDF\u001b[38;5;241m.\u001b[39mloadstr(urdf_string, file_path, base_path)\n\u001b[0;32m    282\u001b[0m \u001b[38;5;28;01mif\u001b[39;00m \u001b[38;5;129;01mnot\u001b[39;00m \u001b[38;5;28misinstance\u001b[39m(urdf_string, \u001b[38;5;28mstr\u001b[39m):  \u001b[38;5;66;03m# pragma nocover\u001b[39;00m\n",
      "\u001b[1;31mFileNotFoundError\u001b[0m: [Errno 2] No such file or directory: 'c:\\\\Users\\\\User\\\\Desktop\\\\Faculdade\\\\Phyton\\\\Testes iniciais\\\\Cookbot\\\\mont_simplificada.urdf'"
     ]
    }
   ],
   "source": [
    "#Importar URDF\n",
    "from pathlib import Path\n",
    "from roboticstoolbox import ERobot, Robot\n",
    "from pathlib import Path\n",
    "print(\"Pasta atual:\", Path().absolute())\n",
    "urdf_path = Path().absolute() / \"mont_simplificada.urdf\"\n",
    "robot = Robot.URDF(str(urdf_path))\n",
    "print(robot)"
   ]
  },
  {
   "cell_type": "code",
   "execution_count": null,
   "id": "8e00565d",
   "metadata": {},
   "outputs": [],
   "source": [
    "import swift\n",
    "import time\n",
    "\n",
    "env = swift.Swift()\n",
    "env.launch()  # Abre no navegador\n",
    "env.add(robot)\n"
   ]
  },
  {
   "cell_type": "code",
   "execution_count": null,
   "id": "f67ed9d1",
   "metadata": {},
   "outputs": [],
   "source": [
    "cookbot = ERobot(robot)\n",
    "print(\"A estrutura do robô é dada por\", cookbot.structure)\n",
    "print(\"Os parâmetros do robô são:\", cookbot)"
   ]
  }
 ],
 "metadata": {
  "kernelspec": {
   "display_name": "cookbot",
   "language": "python",
   "name": "python3"
  },
  "language_info": {
   "codemirror_mode": {
    "name": "ipython",
    "version": 3
   },
   "file_extension": ".py",
   "mimetype": "text/x-python",
   "name": "python",
   "nbconvert_exporter": "python",
   "pygments_lexer": "ipython3",
   "version": "3.9.21"
  }
 },
 "nbformat": 4,
 "nbformat_minor": 5
}
