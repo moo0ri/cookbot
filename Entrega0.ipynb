{
 "cells": [
  {
   "cell_type": "code",
   "execution_count": null,
   "id": "ea21c5b4",
   "metadata": {},
   "outputs": [
    {
     "name": "stdout",
     "output_type": "stream",
     "text": [
      "Pasta atual: c:\\Users\\User\\Desktop\\Cookbot2.0\n",
      "Tipo de cookbot: <class 'list'>\n"
     ]
    }
   ],
   "source": [
    "#Importar URDF\n",
    "from pathlib import Path\n",
    "from roboticstoolbox import ERobot, Robot\n",
    "from pathlib import Path\n",
    "print(\"Pasta atual:\", Path().absolute())\n",
    "urdf_path = Path().absolute() / \"mont_simplificada.urdf\"\n",
    "#cookbot = Robot.URDF(str(urdf_path))\n",
    "cookbot, *_ = ERobot.URDF_read(str(urdf_path))\n",
    "\n",
    "\n",
    "print(\"Nome do robô:\", cookbot.name)\n",
    "print(\"Número de juntas:\", cookbot.n)\n",
    "print(\"q neutro:\", cookbot.qn)\n",
    "print(\"FK exemplo:\", cookbot.fkine(cookbot.qn))"
   ]
  },
  {
   "cell_type": "code",
   "execution_count": 59,
   "id": "2e58b0e0",
   "metadata": {},
   "outputs": [
    {
     "ename": "AttributeError",
     "evalue": "'list' object has no attribute 'q'",
     "output_type": "error",
     "traceback": [
      "\u001b[1;31m---------------------------------------------------------------------------\u001b[0m",
      "\u001b[1;31mAttributeError\u001b[0m                            Traceback (most recent call last)",
      "Cell \u001b[1;32mIn[59], line 5\u001b[0m\n\u001b[0;32m      2\u001b[0m \u001b[38;5;28;01mfrom\u001b[39;00m\u001b[38;5;250m \u001b[39m\u001b[38;5;21;01mspatialmath\u001b[39;00m\u001b[38;5;250m \u001b[39m\u001b[38;5;28;01mimport\u001b[39;00m SE3\n\u001b[0;32m      4\u001b[0m posicaoinicial \u001b[38;5;241m=\u001b[39m SE3(\u001b[38;5;241m0\u001b[39m, \u001b[38;5;241m0\u001b[39m, \u001b[38;5;241m0.1\u001b[39m)\n\u001b[1;32m----> 5\u001b[0m \u001b[38;5;28mprint\u001b[39m(\u001b[38;5;124m\"\u001b[39m\u001b[38;5;124mJuntas: \u001b[39m\u001b[38;5;124m\"\u001b[39m, \u001b[43mcookbot\u001b[49m\u001b[38;5;241;43m.\u001b[39;49m\u001b[43mq\u001b[49m)\n\u001b[0;32m      6\u001b[0m FK \u001b[38;5;241m=\u001b[39m cookbot\u001b[38;5;241m.\u001b[39mfkine(posicaoinicial)\n\u001b[0;32m      7\u001b[0m \u001b[38;5;28mprint\u001b[39m(FK)\n",
      "\u001b[1;31mAttributeError\u001b[0m: 'list' object has no attribute 'q'"
     ]
    }
   ],
   "source": [
    "#TESTES\n",
    "from spatialmath import SE3\n",
    "\n",
    "posicaoinicial = SE3(0, 0, 0.1)\n",
    "print(\"Juntas: \", cookbot.q)\n",
    "FK = cookbot.fkine(posicaoinicial)\n",
    "print(FK)"
   ]
  },
  {
   "cell_type": "code",
   "execution_count": 11,
   "id": "339356d6",
   "metadata": {},
   "outputs": [
    {
     "name": "stdout",
     "output_type": "stream",
     "text": [
      "┌──────────────┬───────┬───────────────────────────────┬─────────────────────────────────────────────────────────────┬────┬───────┬────────┬────┐\n",
      "│      j       │   m   │               r               │                              I                              │ Jm │   B   │   Tc   │ G  │\n",
      "├──────────────┼───────┼───────────────────────────────┼─────────────────────────────────────────────────────────────┼────┼───────┼────────┼────┤\n",
      "│        world │  0    │  0,  0,  0                    │  0,  0,  0,  0,  0,  0                                      │  0 │  0    │  0,  0 │  0 │\n",
      "│ BASE_ROBO_V2 │  1.85 │ -0.0447,  0.138,  2.59e-15    │  0.00907,  0.0121,  0.0121, -1.01e-12,  3.38e-15,  9.06e-16 │  0 │  0    │  0,  0 │  0 │\n",
      "│       BASE_2 │  2.67 │  0.173,  1.65e-09, -1.95e-08  │  0.00489,  0.0228,  0.0228, -1.08e-10, -5.69e-08,  6.96e-09 │  0 │  0    │  0,  0 │  0 │\n",
      "│         ELO2 │  6.44 │  0.03, -0.0875, -0.234        │  0.275,  0.238,  0.0462,  9.42e-06, -0.0834,  2.52e-05      │  0 │  0.01 │  0,  0 │  0 │\n",
      "│         ELO3 │  3.88 │ -0.000864,  1.99e-15,  0.0973 │  0.0391,  0.0171,  0.0239,  0.000243,  2.16e-06,  0.000135  │  0 │  0    │  0,  0 │  0 │\n",
      "└──────────────┴───────┴───────────────────────────────┴─────────────────────────────────────────────────────────────┴────┴───────┴────────┴────┘\n",
      "\n",
      "ERobot: mont_simplificada, 3 joints (PRR), dynamics, geometry, collision\n",
      "┌──────┬──────────────┬───────┬──────────────┬─────────────────────────────────────────────────────────────────┐\n",
      "│ link │     link     │ joint │    parent    │                       ETS: parent to link                       │\n",
      "├──────┼──────────────┼───────┼──────────────┼─────────────────────────────────────────────────────────────────┤\n",
      "│    0 │ \u001b[38;5;4mworld\u001b[0m        │       │ BASE         │ SE3()                                                           │\n",
      "│    1 │ \u001b[38;5;4mBASE_ROBO_V2\u001b[0m │       │ world        │ SE3(0, -0.14, 0.005; 0°, 89.95°, 0°)                            │\n",
      "│    2 │ BASE_2       │     0 │ BASE_ROBO_V2 │ SE3(-0.03228, 0.1378, 2.832e-09; -0.5088°, -0°, 180°) ⊕ tx(q0)  │\n",
      "│    3 │ ELO2         │     1 │ BASE_2       │ SE3(0.327, 0, 0; 1.412e-30°, 7.062e-31°, 6.445e-31°) ⊕ Rx(q1)   │\n",
      "│    4 │ @ELO3        │     2 │ ELO2         │ SE3(0.03, -0.1999, -0.5338; -162.5°, -11.41°, -149.1°) ⊕ Rz(q2) │\n",
      "└──────┴──────────────┴───────┴──────────────┴─────────────────────────────────────────────────────────────────┘\n",
      "\n"
     ]
    }
   ],
   "source": [
    "#PARÂMETROS DO ROBÔ\n",
    "cookbot.dynamics()\n",
    "print(cookbot)"
   ]
  },
  {
   "cell_type": "code",
   "execution_count": null,
   "id": "93366162",
   "metadata": {},
   "outputs": [
    {
     "name": "stdout",
     "output_type": "stream",
     "text": [
      "A cinemática direta simbólica é:\n",
      "  \u001b[38;5;1m1.0*cos(q2) \u001b[0m \u001b[38;5;1m-1.0*sin(q2)*cos(q3)\u001b[0m \u001b[38;5;1m1.0*sin(q2)*sin(q3)\u001b[0m \u001b[38;5;4m100.0*sin(q2)*sin(q3) + 800.0*cos(q2)\u001b[0m  \u001b[0m\n",
      "  \u001b[38;5;1m1.0*sin(q2) \u001b[0m \u001b[38;5;1m1.0*cos(q2)*cos(q3)\u001b[0m \u001b[38;5;1m-1.0*sin(q3)*cos(q2)\u001b[0m \u001b[38;5;4m800.0*sin(q2) - 100.0*sin(q3)*cos(q2)\u001b[0m  \u001b[0m\n",
      "  \u001b[38;5;1m0           \u001b[0m \u001b[38;5;1m1.0*sin(q3) \u001b[0m \u001b[38;5;1m1.0*cos(q3) \u001b[0m \u001b[38;5;4m1.0*q1 + 100.0*cos(q3) + 300.0\u001b[0m  \u001b[0m\n",
      "  \u001b[38;5;244m0           \u001b[0m \u001b[38;5;244m0           \u001b[0m \u001b[38;5;244m0           \u001b[0m \u001b[38;5;244m1.00000000000000\u001b[0m  \u001b[0m\n",
      "\n",
      "A solução da cinemática inversa é:\n",
      "IKSolution: q=[1.15, 0, 0], success=True, iterations=229, searches=8, residual=1.03e-08\n"
     ]
    }
   ],
   "source": [
    "#CINEMÁTICA DIRETA SIMBÓLICA\n",
    "\n",
    "#importar bibliotecas necessárias\n",
    "from roboticstoolbox import ET\n",
    "import numpy as np\n",
    "from spatialmath import SE3\n",
    "import sympy as sp\n",
    "\n",
    "#definindo o braço do robô\n",
    "\n",
    "#parâmetros do braço\n",
    "a2 = 600 \n",
    "a3 = 200\n",
    "\n",
    "e = ET.tz(qlim=[0, 170]) * ET.tz(300) * ET.Rz(qlim=[-np.pi, np.pi]) * ET.tx(a2) * ET.tx(a3) * ET.Rx(qlim=[-np.pi, np.pi]) * ET.tz(100) * ET.tx(100) * ET.tz(100) #aqui ainda é necessário arrumar o end effector, que será uma cesta\n",
    "ecookbot = ERobot(e)\n",
    "#variáveis simbólicas\n",
    "q1, q2, q3 = sp.symbols('q1 q2 q3')\n",
    "#definindo a cinemática direta simbólica\n",
    "TE = e.fkine([q1, q2, q3])\n",
    "print(\"A cinemática direta simbólica é:\")\n",
    "print(TE)\n",
    "\n",
    "#CINEMÁTICA INVERSA\n",
    "\n",
    "#posição inicial das juntas:\n",
    "\n",
    "#posição desejado do end effector:\n",
    "\n",
    "\n",
    "\n",
    "\n",
    "sol = ecookbot.ikine_LM(Tdesejado)\n",
    "print(\"A solução da cinemática inversa é:\")\n",
    "print(sol)"
   ]
  },
  {
   "cell_type": "code",
   "execution_count": null,
   "id": "e411b75e",
   "metadata": {},
   "outputs": [
    {
     "name": "stdout",
     "output_type": "stream",
     "text": [
      "Sucesso: True\n",
      "q = [2.66453526e-15 2.36798137e-10 1.89438421e-09]\n",
      "Sucesso: False\n",
      "❌ IK não encontrou solução válida para pos2\n"
     ]
    }
   ],
   "source": [
    "#TRAJETÓRIAS\n",
    "\n",
    "#definindo a trajetória\n",
    "pos1 = SE3(800, 0, 400) * SE3.Rx(0)\n",
    "pos2 = SE3(0, 800, 420) * SE3.Rx(0)\n",
    "\n",
    "sol1 = cookbot.ikine_LM(pos1)\n",
    "print(\"Sucesso:\", sol1.success)\n",
    "if sol1.success:\n",
    "    print(\"q =\", sol1.q)\n",
    "else:\n",
    "    print(\"❌ IK não encontrou solução válida para pos1\")\n",
    "\n",
    "sol2 = ecookbot.ikine_LM(pos2)\n",
    "print(\"Sucesso:\", sol2.success)\n",
    "if sol2.success:\n",
    "    print(\"q =\", sol2.q)\n",
    "else:\n",
    "    print(\"❌ IK não encontrou solução válida para pos2\")\n"
   ]
  }
 ],
 "metadata": {
  "kernelspec": {
   "display_name": "cookbot",
   "language": "python",
   "name": "python3"
  },
  "language_info": {
   "codemirror_mode": {
    "name": "ipython",
    "version": 3
   },
   "file_extension": ".py",
   "mimetype": "text/x-python",
   "name": "python",
   "nbconvert_exporter": "python",
   "pygments_lexer": "ipython3",
   "version": "3.9.21"
  }
 },
 "nbformat": 4,
 "nbformat_minor": 5
}
